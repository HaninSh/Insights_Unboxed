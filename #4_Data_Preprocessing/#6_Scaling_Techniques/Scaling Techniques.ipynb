{
 "cells": [
  {
   "cell_type": "markdown",
   "metadata": {},
   "source": [
    "# Data Scaling"
   ]
  },
  {
   "cell_type": "markdown",
   "metadata": {},
   "source": [
    "Scaling Techniques:\n",
    "- Min-Max Scaling (Normalization)\n",
    "- Standardization (Z-Score Normalization)\n",
    "- Robust Scaling"
   ]
  },
  {
   "cell_type": "markdown",
   "metadata": {},
   "source": [
    "### Upload Needed Libraries"
   ]
  },
  {
   "cell_type": "code",
   "execution_count": 1,
   "metadata": {},
   "outputs": [],
   "source": [
    "import numpy as np\n",
    "from sklearn.preprocessing import MinMaxScaler, StandardScaler, RobustScaler"
   ]
  },
  {
   "cell_type": "markdown",
   "metadata": {},
   "source": [
    "### Sample Data"
   ]
  },
  {
   "cell_type": "code",
   "execution_count": 2,
   "metadata": {},
   "outputs": [],
   "source": [
    "data_np = np.array([[1.0, 200.0, 3.0],\n",
    "                    [2.0, 300.0, 6.0],\n",
    "                    [3.0, 400.0, 9.0],\n",
    "                    [4.0, 500.0, 12.0],\n",
    "                    [5.0, 600.0, 15.0]])"
   ]
  },
  {
   "cell_type": "markdown",
   "metadata": {},
   "source": [
    "### #1 Min-Max Scaling (Normalization)"
   ]
  },
  {
   "cell_type": "code",
   "execution_count": 3,
   "metadata": {},
   "outputs": [],
   "source": [
    "min_max_scaler = MinMaxScaler()\n",
    "data_min_max_scaled = min_max_scaler.fit_transform(data_np)"
   ]
  },
  {
   "cell_type": "code",
   "execution_count": 4,
   "metadata": {},
   "outputs": [
    {
     "name": "stdout",
     "output_type": "stream",
     "text": [
      "Original Data:\n",
      " [[  1. 200.   3.]\n",
      " [  2. 300.   6.]\n",
      " [  3. 400.   9.]\n",
      " [  4. 500.  12.]\n",
      " [  5. 600.  15.]]\n",
      "\n",
      "Min-Max Scaled Data:\n",
      " [[0.   0.   0.  ]\n",
      " [0.25 0.25 0.25]\n",
      " [0.5  0.5  0.5 ]\n",
      " [0.75 0.75 0.75]\n",
      " [1.   1.   1.  ]]\n"
     ]
    }
   ],
   "source": [
    "print(\"Original Data:\\n\", data_np)\n",
    "print(\"\\nMin-Max Scaled Data:\\n\", data_min_max_scaled)"
   ]
  },
  {
   "cell_type": "markdown",
   "metadata": {},
   "source": [
    "### #2 Standardization (Z-Score Normalization)"
   ]
  },
  {
   "cell_type": "code",
   "execution_count": 5,
   "metadata": {},
   "outputs": [],
   "source": [
    "standard_scaler = StandardScaler()\n",
    "data_standardized = standard_scaler.fit_transform(data_np)"
   ]
  },
  {
   "cell_type": "code",
   "execution_count": 6,
   "metadata": {},
   "outputs": [
    {
     "name": "stdout",
     "output_type": "stream",
     "text": [
      "Original Data:\n",
      " [[  1. 200.   3.]\n",
      " [  2. 300.   6.]\n",
      " [  3. 400.   9.]\n",
      " [  4. 500.  12.]\n",
      " [  5. 600.  15.]]\n",
      "\n",
      "Standardized Data (Z-score):\n",
      " [[-1.41421356 -1.41421356 -1.41421356]\n",
      " [-0.70710678 -0.70710678 -0.70710678]\n",
      " [ 0.          0.          0.        ]\n",
      " [ 0.70710678  0.70710678  0.70710678]\n",
      " [ 1.41421356  1.41421356  1.41421356]]\n"
     ]
    }
   ],
   "source": [
    "print(\"Original Data:\\n\", data_np)\n",
    "print(\"\\nStandardized Data (Z-score):\\n\", data_standardized)"
   ]
  },
  {
   "cell_type": "markdown",
   "metadata": {},
   "source": [
    "### #3 Robust Scaler"
   ]
  },
  {
   "cell_type": "code",
   "execution_count": 7,
   "metadata": {},
   "outputs": [],
   "source": [
    "robust_scaler = RobustScaler()                               \n",
    "data_robust_scaled = robust_scaler.fit_transform(data_np)\n"
   ]
  },
  {
   "cell_type": "code",
   "execution_count": 8,
   "metadata": {},
   "outputs": [
    {
     "name": "stdout",
     "output_type": "stream",
     "text": [
      "Original Data:\n",
      " [[  1. 200.   3.]\n",
      " [  2. 300.   6.]\n",
      " [  3. 400.   9.]\n",
      " [  4. 500.  12.]\n",
      " [  5. 600.  15.]]\n",
      "\n",
      "Robust Scaled Data:\n",
      " [[-1.  -1.  -1. ]\n",
      " [-0.5 -0.5 -0.5]\n",
      " [ 0.   0.   0. ]\n",
      " [ 0.5  0.5  0.5]\n",
      " [ 1.   1.   1. ]]\n"
     ]
    }
   ],
   "source": [
    "print(\"Original Data:\\n\", data_np)\n",
    "print(\"\\nRobust Scaled Data:\\n\", data_robust_scaled)"
   ]
  }
 ],
 "metadata": {
  "kernelspec": {
   "display_name": "Python 3",
   "language": "python",
   "name": "python3"
  },
  "language_info": {
   "codemirror_mode": {
    "name": "ipython",
    "version": 3
   },
   "file_extension": ".py",
   "mimetype": "text/x-python",
   "name": "python",
   "nbconvert_exporter": "python",
   "pygments_lexer": "ipython3",
   "version": "3.12.4"
  }
 },
 "nbformat": 4,
 "nbformat_minor": 2
}
